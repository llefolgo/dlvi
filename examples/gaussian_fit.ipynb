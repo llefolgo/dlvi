{
 "cells": [
  {
   "cell_type": "code",
   "execution_count": 1,
   "metadata": {},
   "outputs": [],
   "source": [
    "%load_ext autoreload\n",
    "%autoreload 2"
   ]
  },
  {
   "cell_type": "code",
   "execution_count": 2,
   "metadata": {},
   "outputs": [],
   "source": [
    "from importlib import reload"
   ]
  },
  {
   "cell_type": "code",
   "execution_count": 3,
   "metadata": {},
   "outputs": [],
   "source": [
    "import numpy as np"
   ]
  },
  {
   "cell_type": "code",
   "execution_count": 4,
   "metadata": {},
   "outputs": [],
   "source": [
    "%matplotlib inline\n",
    "\n",
    "import matplotlib\n",
    "import matplotlib.pyplot as plt"
   ]
  },
  {
   "cell_type": "code",
   "execution_count": 5,
   "metadata": {},
   "outputs": [],
   "source": [
    "import torch\n",
    "from torch import Tensor"
   ]
  },
  {
   "cell_type": "markdown",
   "metadata": {},
   "source": [
    "Let's fit a Gaussian distribution using our VB inference engine. <br>\n",
    "We use the form Sigma = VV^t with V defined as below for the true posterior.<br>\n",
    "We'll minimize KL[q||p] = <E_p(x)>_q(x) - H(q) w.r.t. q."
   ]
  },
  {
   "cell_type": "code",
   "execution_count": 6,
   "metadata": {},
   "outputs": [],
   "source": [
    "import torch.nn as nn\n",
    "\n",
    "class GaussianEnergy(nn.Module):\n",
    "    def __init__(self, d):\n",
    "        super(GaussianEnergy, self).__init__()\n",
    "        \n",
    "        U = torch.svd(torch.randn(d,d), some=False).U\n",
    "        rho = torch.randn(d)\n",
    "        S = rho.exp()\n",
    "        V = U*S # cov: VV^T=U S^2 U^T, prec: U S^-2 U^T \n",
    "        \n",
    "        self.register_buffer('_cov', torch.mm(V, V.t()))\n",
    "        self.register_buffer('sqrtL', U/S)       \n",
    "        self.register_buffer('mu', torch.randn(d))\n",
    "        \n",
    "    def forward(self, x):\n",
    "        return torch.sum(torch.pow(torch.matmul(self.mu-x,self.sqrtL),2),dim=-1)*.5\n",
    "    \n",
    "    def cov(self):\n",
    "        return self._cov.detach().clone()\n",
    "    \n",
    "    def precision(self):\n",
    "        return torch.mm(self.sqrtL, self.sqrtL.t()) "
   ]
  },
  {
   "cell_type": "code",
   "execution_count": 7,
   "metadata": {},
   "outputs": [],
   "source": [
    "from torch.nn.parameter import Parameter\n",
    "import math\n",
    "\n",
    "class Foo(nn.Module):\n",
    "    __constants__ = ['d']\n",
    "    \n",
    "    def __init__(self, d):\n",
    "        super(Foo, self).__init__()\n",
    "        self.d = d\n",
    "        self.x = Parameter(torch.Tensor(d))\n",
    "        self.randomize_parameters()        \n",
    "        \n",
    "    def randomize_parameters(self):\n",
    "        bound = 1 / math.sqrt(self.d)\n",
    "        nn.init.uniform_(self.x, -bound, bound)   \n",
    "        \n",
    "    def forward(self, *input):\n",
    "        return self.x"
   ]
  },
  {
   "cell_type": "code",
   "execution_count": 8,
   "metadata": {},
   "outputs": [],
   "source": [
    "def loss(vmodel):\n",
    "    # Sample models\n",
    "    models, model_weights = vmodel.sample_model(detach=False)\n",
    "    \n",
    "    # -log q\n",
    "    mlog_q = vmodel.mlog_q()\n",
    "    \n",
    "    # Compute energy\n",
    "    E_p = 0.\n",
    "    \n",
    "    for i, model in enumerate(models):            \n",
    "        # forward and backward the model loss\n",
    "        model_weight = model_weights[i]\n",
    "        contribution_model = true_gaussian(model(None)).squeeze()\n",
    "        E_p += contribution_model*model_weight\n",
    "    \n",
    "    #\n",
    "    H_q = vmodel.entropy_q()\n",
    "    KL = E_p - mlog_q\n",
    "    \n",
    "    return KL, H_q"
   ]
  },
  {
   "cell_type": "code",
   "execution_count": 9,
   "metadata": {},
   "outputs": [],
   "source": [
    "import dlvi"
   ]
  },
  {
   "cell_type": "code",
   "execution_count": 12,
   "metadata": {},
   "outputs": [],
   "source": [
    "# True posterior\n",
    "d = 8\n",
    "true_gaussian = GaussianEnergy(d)"
   ]
  },
  {
   "cell_type": "code",
   "execution_count": 13,
   "metadata": {},
   "outputs": [
    {
     "data": {
      "text/plain": [
       "tensor(0.)"
      ]
     },
     "execution_count": 13,
     "metadata": {},
     "output_type": "execute_result"
    }
   ],
   "source": [
    "true_gaussian(true_gaussian.mu)"
   ]
  },
  {
   "cell_type": "code",
   "execution_count": 14,
   "metadata": {},
   "outputs": [
    {
     "name": "stdout",
     "output_type": "stream",
     "text": [
      "OrderedDict([('x', Parameter containing:\n",
      "tensor([-0.2773, -0.0659,  0.0219, -0.1486,  0.0751,  0.0395,  0.1845,  0.0821],\n",
      "       requires_grad=True))])\n"
     ]
    }
   ],
   "source": [
    "# Our \"model\"\n",
    "foo = Foo(d)\n",
    "print(foo._parameters)"
   ]
  },
  {
   "cell_type": "code",
   "execution_count": 32,
   "metadata": {},
   "outputs": [],
   "source": [
    "# Gaussian VB\n",
    "VPs = dlvi.vp.GaussianVariationalParameters(low_rank_dimension=8, init_zero_mean=True, mode='unscented')"
   ]
  },
  {
   "cell_type": "code",
   "execution_count": 33,
   "metadata": {},
   "outputs": [],
   "source": [
    "bar = dlvi.Variationalize(lambda: Foo(d), VPs)"
   ]
  },
  {
   "cell_type": "code",
   "execution_count": 34,
   "metadata": {},
   "outputs": [
    {
     "data": {
      "text/plain": [
       "OrderedDict([('_x_mean', tensor([0., 0., 0., 0., 0., 0., 0., 0.])),\n",
       "             ('_x_diag_lstd',\n",
       "              tensor([-3.8650, -3.8650, -3.8650, -3.8650, -3.8650, -3.8650, -3.8650, -3.8650])),\n",
       "             ('_x_U',\n",
       "              tensor([[-0.0548, -0.1550, -0.0741,  0.2690, -0.2472, -0.2834,  0.2136,  0.2122],\n",
       "                      [-0.0278, -0.1499, -0.0273,  0.0380,  0.1039,  0.1385, -0.1570,  0.1060],\n",
       "                      [-0.1591, -0.0882,  0.1556, -0.2910, -0.2654, -0.1419,  0.3349,  0.3125],\n",
       "                      [-0.2364,  0.3015,  0.0924, -0.0622, -0.2368, -0.0323,  0.2607, -0.1075],\n",
       "                      [ 0.1924, -0.1913,  0.1475,  0.2921, -0.1433,  0.1548, -0.1502,  0.1306],\n",
       "                      [ 0.3506, -0.0825,  0.2561,  0.0243, -0.1815,  0.2447,  0.2461,  0.3391],\n",
       "                      [ 0.0127, -0.2032, -0.3152,  0.3277,  0.2639, -0.2881, -0.0298,  0.1238],\n",
       "                      [-0.2969, -0.2260, -0.1223,  0.0753, -0.1997, -0.2963,  0.2600,  0.0790]])),\n",
       "             ('_x_rho',\n",
       "              tensor([-3.8919, -3.9772, -4.0545, -3.8513, -3.8511, -3.8323, -3.7979, -3.9134])),\n",
       "             ('_sample_weights',\n",
       "              tensor([9.1837e-39, 4.1327e-39, 9.9184e-39, 9.6429e-39, 9.9184e-39, 9.0000e-39,\n",
       "                      1.0561e-38, 1.0653e-38, 4.1327e-39, 8.9082e-39, 9.8265e-39, 9.4592e-39,\n",
       "                      1.0561e-38, 1.0653e-38, 1.0469e-38, 9.5510e-39, 1.0102e-38, 8.4490e-39,\n",
       "                      1.0745e-38, 1.0102e-38, 9.6429e-39, 9.2756e-39, 8.4490e-39, 1.1112e-38,\n",
       "                      8.9082e-39, 9.6429e-39, 8.4490e-39, 1.0194e-38, 1.0745e-38, 9.2755e-39,\n",
       "                      8.4490e-39, 8.7245e-39])),\n",
       "             ('variational_parameters.low_rank_dimension',\n",
       "              tensor([8], dtype=torch.int32)),\n",
       "             ('variational_parameters.eps_softabs', tensor([0.0010])),\n",
       "             ('variational_parameters._num_coupled_samples',\n",
       "              tensor([32], dtype=torch.int32)),\n",
       "             ('variational_parameters._mode', tensor([2], dtype=torch.int32)),\n",
       "             ('variational_parameters._pm_lookup_m',\n",
       "              tensor([ 1.,  1.,  1.,  1.,  1.,  1.,  1.,  1.,  1.,  1.,  1.,  1.,  1.,  1.,\n",
       "                       1.,  1., -1., -1., -1., -1., -1., -1., -1., -1., -1., -1., -1., -1.,\n",
       "                      -1., -1., -1., -1.]))])"
      ]
     },
     "execution_count": 34,
     "metadata": {},
     "output_type": "execute_result"
    }
   ],
   "source": [
    "bar.state_dict()"
   ]
  },
  {
   "cell_type": "code",
   "execution_count": 35,
   "metadata": {},
   "outputs": [],
   "source": [
    "from torch.optim import Adam\n",
    "\n",
    "optimizer = Adam(bar.parameters(), lr=1e-1, betas=(0.85, .85))"
   ]
  },
  {
   "cell_type": "code",
   "execution_count": 36,
   "metadata": {
    "scrolled": true
   },
   "outputs": [
    {
     "name": "stdout",
     "output_type": "stream",
     "text": [
      "Wall time: 38.9 s\n"
     ]
    }
   ],
   "source": [
    "%%time\n",
    "epochs = 1000\n",
    "trace = []\n",
    "trace_entropy = []\n",
    "\n",
    "for epoch in range(int(epochs)):\n",
    "    KL, H_q = loss(bar) \n",
    "    \n",
    "    optimizer.zero_grad()\n",
    "    KL.backward()\n",
    "    optimizer.step()\n",
    "    \n",
    "    trace.append(KL.item())\n",
    "    trace_entropy.append(H_q.item())"
   ]
  },
  {
   "cell_type": "code",
   "execution_count": 37,
   "metadata": {},
   "outputs": [
    {
     "data": {
      "image/png": "[encoded data removed]",
      "text/plain": [
       "<Figure size 432x288 with 2 Axes>"
      ]
     },
     "metadata": {
      "needs_background": "light"
     },
     "output_type": "display_data"
    }
   ],
   "source": [
    "f, (ax1, ax2) = plt.subplots(2, sharex=True, sharey=False)\n",
    "\n",
    "ax1.plot(np.arange(epochs), np.array(trace))\n",
    "ax1.set(ylabel='loss',\n",
    "       title='Optimizer trace')\n",
    "ax1.grid()\n",
    "\n",
    "ax2.plot(np.arange(epochs), np.array(trace_entropy))\n",
    "ax2.set(xlabel='epoch', ylabel='entropy',\n",
    "       title='Entropy trace')\n",
    "ax2.grid()\n",
    "\n",
    "plt.show()"
   ]
  },
  {
   "cell_type": "markdown",
   "metadata": {},
   "source": [
    "Check convergence, compare estimates of mean and covariance to the true ones."
   ]
  },
  {
   "cell_type": "code",
   "execution_count": 38,
   "metadata": {},
   "outputs": [
    {
     "data": {
      "text/plain": [
       "OrderedDict([('globals', None),\n",
       "             ('locals',\n",
       "              OrderedDict([('x',\n",
       "                            GaussianVariationalParameter(mean=Parameter containing:\n",
       "                            tensor([-2.0385, -1.4008, -1.9277,  1.0407, -1.3514,  1.0884,  1.0780,  0.4256],\n",
       "                                   requires_grad=True), diag_lstd=Parameter containing:\n",
       "                            tensor([-0.6208, -0.7140, -0.7301, -0.4825, -1.0852, -2.4544, -0.8349, -4.2246],\n",
       "                                   requires_grad=True), U=Parameter containing:\n",
       "                            tensor([[ 0.4636,  2.8735,  4.9931, -2.5318, -4.9330, -4.3735, -2.5257,  4.3752],\n",
       "                                    [-5.3859, -7.0582,  3.1475,  3.4573, -0.1374,  1.8601, -2.8102, -1.6362],\n",
       "                                    [-2.7927, -1.9911,  2.9922, -4.2557,  0.8319,  1.7042,  2.4118,  3.6200],\n",
       "                                    [-1.2627,  0.8121,  0.3726,  0.9250, -5.4727, -0.6705,  1.3516, -2.7653],\n",
       "                                    [ 0.4391, -2.0033,  4.4609,  2.2644, -2.1075, -4.0220, -1.8115,  1.5797],\n",
       "                                    [ 4.0993, -0.5078,  1.6993, -0.0528, -2.9360, -0.0376,  1.0320, -4.3940],\n",
       "                                    [ 2.2205,  1.5727,  1.4061,  3.4232,  1.7515, -5.7180,  1.8985,  2.7470],\n",
       "                                    [-2.5845, -0.2141,  1.4888,  1.3669, -1.8945, -3.2032,  6.1480,  0.9087]],\n",
       "                                   requires_grad=True), rho=Parameter containing:\n",
       "                            tensor([ 0.3476, -1.7830, -2.3515,  0.3118,  0.1957, -0.5180,  0.3125,  0.0947],\n",
       "                                   requires_grad=True)))]))])"
      ]
     },
     "execution_count": 38,
     "metadata": {},
     "output_type": "execute_result"
    }
   ],
   "source": [
    "bar.vp_dict"
   ]
  },
  {
   "cell_type": "code",
   "execution_count": 39,
   "metadata": {},
   "outputs": [
    {
     "data": {
      "text/plain": [
       "tensor([-2.0391, -1.3991, -1.9281,  1.0405, -1.3539,  1.0881,  1.0793,  0.4256])"
      ]
     },
     "execution_count": 39,
     "metadata": {},
     "output_type": "execute_result"
    }
   ],
   "source": [
    "true_gaussian.mu"
   ]
  },
  {
   "cell_type": "code",
   "execution_count": 40,
   "metadata": {},
   "outputs": [
    {
     "data": {
      "text/plain": [
       "tensor([[ 1.4123, -0.2442,  0.2755,  0.1979,  0.2965, -0.0270, -0.1428, -0.2119],\n",
       "        [-0.2442,  1.5825, -0.2736,  0.1956,  0.2773, -0.5122, -0.1484,  0.0067],\n",
       "        [ 0.2755, -0.2736,  1.2885, -0.2429, -0.3407, -0.5106, -0.3263,  0.3870],\n",
       "        [ 0.1979,  0.1956, -0.2429,  1.1336,  0.1850,  0.3716, -0.2200,  0.4785],\n",
       "        [ 0.2965,  0.2773, -0.3407,  0.1850,  0.5118,  0.0123,  0.2322, -0.0845],\n",
       "        [-0.0270, -0.5122, -0.5106,  0.3716,  0.0123,  0.8542, -0.0465, -0.0618],\n",
       "        [-0.1428, -0.1484, -0.3263, -0.2200,  0.2322, -0.0465,  1.2090,  0.2704],\n",
       "        [-0.2119,  0.0067,  0.3870,  0.4785, -0.0845, -0.0618,  0.2704,  1.2318]])"
      ]
     },
     "execution_count": 40,
     "metadata": {},
     "output_type": "execute_result"
    }
   ],
   "source": [
    "true_gaussian.cov()"
   ]
  },
  {
   "cell_type": "code",
   "execution_count": 41,
   "metadata": {},
   "outputs": [
    {
     "data": {
      "text/plain": [
       "tensor([[ 1.5709, -0.3155,  0.3023,  0.1572,  0.3361, -0.0424, -0.2545, -0.2694],\n",
       "        [-0.3155,  1.8012, -0.3090,  0.2870,  0.2697, -0.6150, -0.2376,  0.0521],\n",
       "        [ 0.3023, -0.3090,  1.4744, -0.1976, -0.4429, -0.5769, -0.3907,  0.4323],\n",
       "        [ 0.1572,  0.2870, -0.1976,  1.2295,  0.1521,  0.4025, -0.2067,  0.5412],\n",
       "        [ 0.3361,  0.2697, -0.4429,  0.1521,  0.5822,  0.0073,  0.2866, -0.0806],\n",
       "        [-0.0424, -0.6150, -0.5769,  0.4025,  0.0073,  1.0297,  0.0180, -0.0984],\n",
       "        [-0.2545, -0.2376, -0.3907, -0.2067,  0.2866,  0.0180,  1.1486,  0.3592],\n",
       "        [-0.2694,  0.0521,  0.4323,  0.5412, -0.0806, -0.0984,  0.3592,  1.4329]],\n",
       "       grad_fn=<AddBackward0>)"
      ]
     },
     "execution_count": 41,
     "metadata": {},
     "output_type": "execute_result"
    }
   ],
   "source": [
    "vp = bar.vp_list[0]\n",
    "\n",
    "vp_U = vp.U\n",
    "norm_U = torch.sqrt(torch.sum(torch.pow(vp_U, 2), dim=list(range(vp_U.dim()-1))) + 1e-3)\n",
    "V = vp_U * (torch.exp(vp.rho) / norm_U)\n",
    "\n",
    "C_e = torch.diag(torch.exp(vp.diag_lstd*2)) + torch.matmul(V,V.t())\n",
    "C_e"
   ]
  },
  {
   "cell_type": "markdown",
   "metadata": {},
   "source": [
    "Take a look at eigenvalues of the real and estimated systems."
   ]
  },
  {
   "cell_type": "code",
   "execution_count": 42,
   "metadata": {},
   "outputs": [
    {
     "data": {
      "text/plain": [
       "tensor([2.0857, 1.8981, 1.7152, 1.6936, 1.3159, 0.1942, 0.1837, 0.1373])"
      ]
     },
     "execution_count": 42,
     "metadata": {},
     "output_type": "execute_result"
    }
   ],
   "source": [
    "S = torch.svd(true_gaussian.cov()).S\n",
    "S"
   ]
  },
  {
   "cell_type": "code",
   "execution_count": 43,
   "metadata": {},
   "outputs": [
    {
     "data": {
      "text/plain": [
       "torch.return_types.svd(\n",
       "U=tensor([[-0.4023, -0.0714, -0.3485,  0.5881, -0.4562,  0.2512, -0.3047, -0.0417],\n",
       "        [ 0.6323,  0.5004, -0.3458,  0.0903, -0.0278,  0.1661, -0.1468, -0.4149],\n",
       "        [-0.5535,  0.5360,  0.1329, -0.0036,  0.0388, -0.2924,  0.2163, -0.5049],\n",
       "        [ 0.2410,  0.0189,  0.2553,  0.6730,  0.2087, -0.5902, -0.1311,  0.1199],\n",
       "        [ 0.1993, -0.1306, -0.1342,  0.1899, -0.4220, -0.1013,  0.8371, -0.0090],\n",
       "        [ 0.0306, -0.5296,  0.1993,  0.2150,  0.3401,  0.2945,  0.0934, -0.6493],\n",
       "        [ 0.1653, -0.2199,  0.3437, -0.2680, -0.6474, -0.3192, -0.3263, -0.3269],\n",
       "        [ 0.0768,  0.3332,  0.7073,  0.1973, -0.1823,  0.5259,  0.0759,  0.1682]],\n",
       "       grad_fn=<SvdHelperBackward>),\n",
       "S=tensor([2.3813, 2.2457, 1.9788, 1.8190, 1.3277, 0.2151, 0.1561, 0.1456],\n",
       "       grad_fn=<SvdHelperBackward>),\n",
       "V=tensor([[-0.4023, -0.0714, -0.3485,  0.5881, -0.4562,  0.2512, -0.3047, -0.0417],\n",
       "        [ 0.6323,  0.5004, -0.3458,  0.0903, -0.0278,  0.1661, -0.1468, -0.4149],\n",
       "        [-0.5535,  0.5360,  0.1329, -0.0036,  0.0388, -0.2924,  0.2163, -0.5049],\n",
       "        [ 0.2410,  0.0189,  0.2553,  0.6730,  0.2087, -0.5902, -0.1311,  0.1199],\n",
       "        [ 0.1993, -0.1306, -0.1342,  0.1899, -0.4220, -0.1013,  0.8371, -0.0090],\n",
       "        [ 0.0306, -0.5296,  0.1993,  0.2150,  0.3401,  0.2945,  0.0934, -0.6493],\n",
       "        [ 0.1653, -0.2199,  0.3437, -0.2680, -0.6474, -0.3192, -0.3263, -0.3269],\n",
       "        [ 0.0768,  0.3332,  0.7073,  0.1973, -0.1823,  0.5259,  0.0759,  0.1682]],\n",
       "       grad_fn=<SvdHelperBackward>))"
      ]
     },
     "execution_count": 43,
     "metadata": {},
     "output_type": "execute_result"
    }
   ],
   "source": [
    "svd_Ce = torch.svd(C_e)\n",
    "svd_Ce"
   ]
  },
  {
   "cell_type": "code",
   "execution_count": 44,
   "metadata": {},
   "outputs": [],
   "source": [
    "P_e = torch.mm(svd_Ce.U/svd_Ce.S, svd_Ce.U.t())"
   ]
  },
  {
   "cell_type": "code",
   "execution_count": 45,
   "metadata": {},
   "outputs": [],
   "source": [
    "C = true_gaussian.cov()\n",
    "mu = true_gaussian.mu\n",
    "mu_e = vp.mean\n",
    "\n",
    "KL = (torch.trace(torch.mm(P_e,C)) + \n",
    "        torch.dot(mu_e-mu,torch.mv(P_e,mu_e-mu)) - \n",
    "        d +\n",
    "        torch.sum(torch.log(svd_Ce.S) - torch.log(S))\n",
    "     ) * 0.5"
   ]
  },
  {
   "cell_type": "code",
   "execution_count": 46,
   "metadata": {},
   "outputs": [
    {
     "data": {
      "text/plain": [
       "tensor(0.1211, grad_fn=<MulBackward0>)"
      ]
     },
     "execution_count": 46,
     "metadata": {},
     "output_type": "execute_result"
    }
   ],
   "source": [
    "KL"
   ]
  },
  {
   "cell_type": "code",
   "execution_count": null,
   "metadata": {},
   "outputs": [],
   "source": []
  }
 ],
 "metadata": {
  "kernelspec": {
   "display_name": "Python 3",
   "language": "python",
   "name": "python3"
  },
  "language_info": {
   "codemirror_mode": {
    "name": "ipython",
    "version": 3
   },
   "file_extension": ".py",
   "mimetype": "text/x-python",
   "name": "python",
   "nbconvert_exporter": "python",
   "pygments_lexer": "ipython3",
   "version": "3.7.5"
  }
 },
 "nbformat": 4,
 "nbformat_minor": 4
}
